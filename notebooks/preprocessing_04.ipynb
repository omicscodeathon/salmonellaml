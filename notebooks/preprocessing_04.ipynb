{
 "cells": [
  {
   "cell_type": "code",
   "execution_count": 119,
   "id": "0cf6eb54",
   "metadata": {
    "scrolled": true
   },
   "outputs": [
    {
     "name": "stdout",
     "output_type": "stream",
     "text": [
      "['../data/ERR369376.snp', '../data/SRR2163246.snp']\n",
      "       genomic_position ERR369376\n",
      "0                   480         G\n",
      "1                   534         C\n",
      "2                   646         T\n",
      "3                   793         C\n",
      "4                   796         T\n",
      "...                 ...       ...\n",
      "38500           4856937         G\n",
      "38501           4856961         C\n",
      "38502           4857171         A\n",
      "38503           4857177         A\n",
      "38504           4857307         A\n",
      "\n",
      "[38505 rows x 2 columns]\n",
      "['../data/ERR369376.snp', '../data/SRR2163246.snp']\n",
      "SRR2163246\n"
     ]
    }
   ],
   "source": [
    "import pandas as pd\n",
    "# from kaos import cgr\n",
    "from complexcgr import CGR\n",
    "from pathlib import Path\n",
    "# Instantiate class CGR\n",
    "cgr = CGR()\n",
    "def get_last_name(file_path):\n",
    "    return Path(file_path).stem\n",
    "def preprocessing(snp_list):\n",
    "    # Step1: merge SNPs of all samples\n",
    "    with open(snp_list, \"r\") as f:\n",
    "        sample_files = f.read().splitlines()\n",
    "        print(sample_files)\n",
    "        # read First dat\n",
    "        # Read the data from the first sample\n",
    "        first_data = pd.read_csv(sample_files[0],sep=\" \",header=None)\n",
    "#        first_data.columns=[\"V1\", \"REF\", f\"ALT1_{sample_files[0]}\"]\n",
    "        first_data.columns = [\"genomic_position\", \"REF\", get_last_name(sample_files[0])]\n",
    "        # Drop the fist column\n",
    "        first_data = first_data.drop(columns=[\"REF\"])\n",
    "        print(first_data)\n",
    "        # add other samples and merge them to the first data\n",
    "        for sample in sample_files[1:]:\n",
    "            print(sample_files)\n",
    "            sample_data = pd.read_csv(sample ,sep=\" \",header=None)\n",
    "            column_name=get_last_name(sample)\n",
    "            print(column_name)\n",
    "            sample_data.columns=[\"genomic_position\", \"REF\",column_name]\n",
    "            # drop the ref column\n",
    "            sample_data=sample_data.drop(columns=[\"REF\"])\n",
    "            # merge data on genomic positions\n",
    "            merge_data = first_data.merge(sample_data, on=\"genomic_position\", how=\"outer\")\n",
    "            merge_data.set_index(\"genomic_position\", inplace=True)\n",
    "            # Tranpose the df (reverse) to have samples as rowsa and genomic positions as columns\n",
    "            merge_data=merge_data.T\n",
    "            return merge_data\n",
    "#     merge_data = merge_data.fillna(\"N\")\n",
    "#     merge_data = merge_data.replace({\"A\": 1, \"G\": 2, \"C\": 3, \"T\": 4, \"N\": 0})\n",
    "#     merge_data = merge_data.rename(columns={\"V1\": \"POS\"})\n",
    "#     tinput = merge_data.T\n",
    "#     tinput.columns = tinput.iloc[0]\n",
    "#     tinput = tinput.iloc[1:]\n",
    "#     value = len(sample_files) // 5 * 4\n",
    "#     tinput4 = tinput[tinput[\"Num\"] < value]\n",
    "#     tinput5 = tinput4.T\n",
    "#     tinput5.to_csv(\"snp_input.csv\", index=False)\n",
    "\n",
    "df=preprocessing(\"../data/snp.list\")\n",
    "#     # FCGR Encoding using kaos package\n",
    "#     data = pd.read_csv(\"snp_input.csv\")\n",
    "#     data = data.replace({0: \"N\", 1: \"A\", 2: \"G\", 3: \"C\", 4: \"T\"})\n",
    "\n",
    "#     for i in range(900):\n",
    "#         cgr_list = cgr(data[str(i)], seq_base=[\"N\", \"A\", \"G\", \"C\", \"T\"], res=200)\n",
    "#         cgr_matrix = cgr_list[\"matrix\"]\n",
    "#         cgr_matrix.to_csv(sample_files[i], index=False)\n"
   ]
  },
  {
   "cell_type": "code",
   "execution_count": 124,
   "id": "694385ac",
   "metadata": {},
   "outputs": [],
   "source": [
    "# df.columns\n",
    "df.to_csv(\"../data/processed_data.csv\")"
   ]
  },
  {
   "cell_type": "code",
   "execution_count": null,
   "id": "5f5463f3",
   "metadata": {},
   "outputs": [],
   "source": []
  },
  {
   "cell_type": "code",
   "execution_count": null,
   "id": "7b545d65",
   "metadata": {},
   "outputs": [],
   "source": []
  }
 ],
 "metadata": {
  "kernelspec": {
   "display_name": "Python 3 (ipykernel)",
   "language": "python",
   "name": "python3"
  },
  "language_info": {
   "codemirror_mode": {
    "name": "ipython",
    "version": 3
   },
   "file_extension": ".py",
   "mimetype": "text/x-python",
   "name": "python",
   "nbconvert_exporter": "python",
   "pygments_lexer": "ipython3",
   "version": "3.9.7"
  }
 },
 "nbformat": 4,
 "nbformat_minor": 5
}
